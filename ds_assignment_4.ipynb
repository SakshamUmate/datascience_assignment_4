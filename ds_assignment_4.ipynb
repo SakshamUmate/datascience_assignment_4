{
 "cells": [
  {
   "cell_type": "markdown",
   "id": "fc3f535c-2b7e-4fec-9ad6-9a861efda205",
   "metadata": {},
   "source": [
    "Q1. Explain Class and Object with respect to Object-Oriented Programming. Give a suitable example."
   ]
  },
  {
   "cell_type": "markdown",
   "id": "7d4497da-7ac7-48a2-95cc-d516899f0eaf",
   "metadata": {},
   "source": [
    "Class:\r\n",
    "A class is a user-defined data type that encapsulates data (attributes) and the methods (functions) that operate on the data. It serves as a blueprint for creating objects. Classes define the properties and behaviors that the objects created from them will have."
   ]
  },
  {
   "cell_type": "markdown",
   "id": "65882cb3-7d58-4759-860c-774eeea0e97c",
   "metadata": {},
   "source": [
    "Object:\r\n",
    "An object is an instance of a class. It is a concrete realization of the properties and behaviors defined by the class. Objects have state (attributes or data) and behavior (methods or functions)."
   ]
  },
  {
   "cell_type": "code",
   "execution_count": 32,
   "id": "b26c4ade-9fbe-4a90-8f96-c11c5c1f7be3",
   "metadata": {},
   "outputs": [
    {
     "name": "stdout",
     "output_type": "stream",
     "text": [
      "name:nobita\n",
      " roll no:4567\n",
      "name:aady\n",
      " roll no:1234\n"
     ]
    }
   ],
   "source": [
    "class cse:\n",
    "    def __init__(self,std_name,roll_no):\n",
    "        self.std_name=std_name\n",
    "        self.roll_no=roll_no\n",
    "    def std_detials(self):\n",
    "        return print(f'name:{self.std_name}\\n roll no:{self.roll_no}')\n",
    "b=cse('nobita',4567)\n",
    "b.std_detials()\n",
    "a=cse('aady',1234) \n",
    "a.std_detials()"
   ]
  },
  {
   "cell_type": "markdown",
   "id": "45a2ebb6-7048-4b25-8b29-d0d353f90d5b",
   "metadata": {},
   "source": [
    "Q2. Name the four pillars of OOPs."
   ]
  },
  {
   "cell_type": "markdown",
   "id": "94f57b4f-28bd-40b1-9d97-14e987dd339f",
   "metadata": {},
   "source": [
    "The four pillars of object-oriented programming (OOP) are:\r\n",
    "\r\n",
    "Encapsulation:\r\n",
    "\r\n",
    "Encapsulation is the bundling of data (attributes) and the methods (functions) that operate on the data into a single unit known as a class.\r\n",
    "It hides the internal details of the object and restricts access to some of its components, providing a protective barrier and preventing the accidental modification of data.\r\n",
    "Abstraction:\r\n",
    "\r\n",
    "Abstraction involves simplifying complex systems by modeling classes based on the essential properties and behaviors they possess.\r\n",
    "It allows developers to focus on the relevant features of an object while ignoring unnecessary details.\r\n",
    "Abstraction provides a way to create abstract classes and interfaces, defining a common interface for a group of related classes.\r\n",
    "Inheritance:\r\n",
    "\r\n",
    "Inheritance is a mechanism that allows a new class (subclass or derived class) to inherit properties and behaviors from an existing class (superclass or base class).\r\n",
    "It promotes code reuse and establishes a relationship between classes, facilitating the creation of a hierarchy of classes.\r\n",
    "Polymorphism:\r\n",
    "\r\n",
    "Polymorphism means \"many forms\" and allows objects of different classes to be treated as objects of a common base class.\r\n",
    "It enables a single interface to represent entities of different types, and it can take various forms such as compile-time polymorphism (method overloading) and runtime polymorphism (method overriding).\r\n",
    "These four pillars together provide a framework for organizing and designing code in a way that promotes modularity, reusability, and maintainability in object-oriented programming."
   ]
  },
  {
   "cell_type": "markdown",
   "id": "6b0f9f30-2276-47bd-97a4-3db7ba68293d",
   "metadata": {},
   "source": [
    "Q3. Explain why the __init__() function is used. Give a suitable example."
   ]
  },
  {
   "cell_type": "markdown",
   "id": "49ef63a5-72eb-4784-89c0-c3f43d932dc9",
   "metadata": {},
   "source": [
    "\r\n",
    "The __init__() function in Python is a special method (also known as a constructor) that is automatically called when an object is created from a class. Its primary purpose is to initialize the attributes of the object, providing them with default values or values supplied by the user during the object's instantiation.\r\n",
    "\r\n",
    "Here's why the __init__() function is used:\r\n",
    "\r\n",
    "Initialization:\r\n",
    "\r\n",
    "The __init__() method is used to initialize the attributes of an object with specific values when the object is created. This ensures that the object starts with a well-defined state.\r\n",
    "Attribute Assignment:\r\n",
    "\r\n",
    "It assigns values to the attributes of the object, setting the initial state of the object based on the parameters passed to the constructor.\r\n",
    "Parameter Passing:\r\n",
    "\r\n",
    "The __init__() method allows the class to accept parameters when creating an object. These parameters can be used to customize the initial state of each object.\r\n",
    "Default Values:\r\n",
    "\r\n",
    "The method can provide default values for attributes, allowing the object to be created with some attributes pre-set if specific values are not provided during instantiation."
   ]
  },
  {
   "cell_type": "code",
   "execution_count": 11,
   "id": "1e5a830b-4efc-459b-8e49-a5e2756dc415",
   "metadata": {},
   "outputs": [],
   "source": [
    "class hero:\n",
    "     # The __init__ method with parameters for attribute initialization\n",
    "    def __init__(self,name,age):\n",
    "        # Instance attributes\n",
    "        self.name=name\n",
    "        self.age=age\n",
    "         # Method to display information about the person\n",
    "    def hero_details(self):\n",
    "        print(f'name:{self.name} \\nage:{self.age}')\n",
    "# Creating objects (instances) of the Person class\n",
    "s=hero('Spider_man',16)\n",
    "i=hero(\"Iron_man\",25)"
   ]
  },
  {
   "cell_type": "code",
   "execution_count": 12,
   "id": "4b52ce9d-9b0d-468b-aec0-226509a356bc",
   "metadata": {},
   "outputs": [
    {
     "name": "stdout",
     "output_type": "stream",
     "text": [
      "name:Spider_man \n",
      "age:16\n",
      "name:Iron_man \n",
      "age:25\n"
     ]
    }
   ],
   "source": [
    "s.hero_details()\n",
    "i.hero_details()"
   ]
  },
  {
   "cell_type": "markdown",
   "id": "90c35d6c-0d30-45e0-8566-f37acc5e999b",
   "metadata": {},
   "source": [
    "Q4. Why self is used in OOPs?\r\n",
    "\r\n"
   ]
  },
  {
   "cell_type": "markdown",
   "id": "97f708e0-d866-4b79-8160-8db79bcb51e6",
   "metadata": {},
   "source": [
    "\r\n",
    "In object-oriented programming (OOP), self is a convention used to represent the instance of the class, particularly in Python. It is the first parameter of any instance method in a class and refers to the instance of the class itself. The use of self serves several important purposes:\r\n",
    "\r\n",
    "Instance Reference:\r\n",
    "\r\n",
    "self is a reference to the instance of the class. When you call a method on an object, self allows the method to refer to and operate on the specific instance of the class that invoked the method.\r\n",
    "Accessing Instance Attributes:\r\n",
    "\r\n",
    "Inside a class method, you can use self to access and modify instance attributes. This is crucial for distinguishing between instance variables and local variables within a method.\r\n",
    "Method Invocation:\r\n",
    "\r\n",
    "When a method is called on an object (e.g., object.method()), the instance on which the method is called is automatically passed as the first parameter (self). This allows the method to operate on the attributes of that specific instance.\r\n",
    "Instance Creation:\r\n",
    "\r\n",
    "During the instantiation of an object, self is implicitly passed to the __init__() method. It is used to set up the initial state of the object by assigning values to its attributes."
   ]
  },
  {
   "cell_type": "code",
   "execution_count": 14,
   "id": "1041e691-8ff0-4d1b-a68f-2bf8538462e7",
   "metadata": {},
   "outputs": [
    {
     "name": "stdout",
     "output_type": "stream",
     "text": [
      "Value: 42\n"
     ]
    }
   ],
   "source": [
    "class my_class:\n",
    "    def __init__(self, value):\n",
    "        # Initializing an instance attribute\n",
    "        self.value = value\n",
    "\n",
    "    def display_value(self):\n",
    "        # Accessing the instance attribute using self\n",
    "        print(f\"Value: {self.value}\")\n",
    "\n",
    "# Creating an instance of MyClass\n",
    "obj =my_class(42)\n",
    "\n",
    "# Calling a method on the instance\n",
    "obj.display_value()  # Output: Value: 42\n"
   ]
  },
  {
   "cell_type": "markdown",
   "id": "160da437-290e-400f-913a-94d922e59c64",
   "metadata": {},
   "source": [
    "Q5. What is inheritance? Give an example for each type of inheritance."
   ]
  },
  {
   "cell_type": "markdown",
   "id": "e3d74ed4-b9fd-4a03-81b1-a9bab95886f4",
   "metadata": {},
   "source": [
    "Inheritance is a fundamental concept in object-oriented programming (OOP) that allows a new class to inherit the characteristics (attributes and methods) of an existing class. The class that is being inherited from is called the base class or parent class, and the class that inherits is called the derived class or subclass. Inheritance promotes code reuse, as the derived class can reuse and extend the functionality of the base class.\r\n",
    "\r\n",
    "There are different types of inheritance:"
   ]
  },
  {
   "cell_type": "code",
   "execution_count": 19,
   "id": "d639aed0-89d4-4c4a-9910-e26a75517913",
   "metadata": {},
   "outputs": [
    {
     "name": "stdout",
     "output_type": "stream",
     "text": [
      "all animal eats\n",
      "all fish's Swims\n"
     ]
    }
   ],
   "source": [
    "#creating single inheritance\n",
    "class animal:       \n",
    "    def task(self):\n",
    "        print('all animal eats')\n",
    "class fish(animal):\n",
    "    def work(self):\n",
    "        print(\"all fish's Swims\")\n",
    "        \n",
    "f=fish() \n",
    "f.task()\n",
    "f.work()"
   ]
  },
  {
   "cell_type": "code",
   "execution_count": 20,
   "id": "ff1a68a9-db1b-43d2-987b-bfada56c8ad5",
   "metadata": {},
   "outputs": [
    {
     "name": "stdout",
     "output_type": "stream",
     "text": [
      "all animal eats\n",
      "all aquatic animal lives in water\n",
      "all fishes swims\n"
     ]
    }
   ],
   "source": [
    "# Example of Multiple Inheritance\n",
    "class animals:\n",
    "    def method_animals(self):\n",
    "        print(\"all animal eats\")\n",
    "\n",
    "class aquatic:\n",
    "    def method_aquatic(self):\n",
    "        print(\"all aquatic animal lives in water\")\n",
    "\n",
    "class fish(animals, aquatic):\n",
    "    def method_fish(self):\n",
    "        print(\"all fishes swims\")\n",
    "\n",
    "# creating an instance of fish\n",
    "my_instance = fish()\n",
    "\n",
    "# accessing methods from all three classes\n",
    "my_instance.method_animals()  # Output: Method from class animals\n",
    "my_instance.method_aquatic()  # Output: Method from class aquatic\n",
    "my_instance.method_fish()  # Output: Method from class fish\n"
   ]
  },
  {
   "cell_type": "code",
   "execution_count": 37,
   "id": "5db9d371-8805-47ca-92d0-c81add487c0a",
   "metadata": {},
   "outputs": [
    {
     "name": "stdout",
     "output_type": "stream",
     "text": [
      "Method from class A\n",
      "Method from class B\n",
      "Method from class C\n"
     ]
    }
   ],
   "source": [
    "# Example of Multilevel Inheritance\n",
    "class A:\n",
    "    def method_A(self):\n",
    "        print(\"Method from class A\")\n",
    "\n",
    "class B(A):\n",
    "    def method_B(self):\n",
    "        print(\"Method from class B\")\n",
    "\n",
    "class C(B):\n",
    "    def method_C(self):\n",
    "        print(\"Method from class C\")\n",
    "\n",
    "# Creating an instance of C\n",
    "my_instance = C()\n",
    "\n",
    "# Accessing methods from all three classes\n",
    "my_instance.method_A()  # Output: Method from class A\n",
    "my_instance.method_B()  # Output: Method from class B\n",
    "my_instance.method_C()  # Output: Method from class C\n"
   ]
  },
  {
   "cell_type": "code",
   "execution_count": null,
   "id": "3aca1470-d6e8-4253-975f-8dbf63e1ad9d",
   "metadata": {},
   "outputs": [],
   "source": []
  },
  {
   "cell_type": "code",
   "execution_count": null,
   "id": "6f558b1d-283c-4c4e-b3c1-8d66fd52af61",
   "metadata": {},
   "outputs": [],
   "source": []
  }
 ],
 "metadata": {
  "kernelspec": {
   "display_name": "Python 3 (ipykernel)",
   "language": "python",
   "name": "python3"
  },
  "language_info": {
   "codemirror_mode": {
    "name": "ipython",
    "version": 3
   },
   "file_extension": ".py",
   "mimetype": "text/x-python",
   "name": "python",
   "nbconvert_exporter": "python",
   "pygments_lexer": "ipython3",
   "version": "3.11.4"
  }
 },
 "nbformat": 4,
 "nbformat_minor": 5
}
